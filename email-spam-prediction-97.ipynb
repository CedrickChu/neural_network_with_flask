{
 "cells": [
  {
   "cell_type": "code",
   "execution_count": 164,
   "id": "1d78937d",
   "metadata": {
    "execution": {
     "iopub.execute_input": "2023-10-05T11:12:26.908162Z",
     "iopub.status.busy": "2023-10-05T11:12:26.907281Z",
     "iopub.status.idle": "2023-10-05T11:12:27.287308Z",
     "shell.execute_reply": "2023-10-05T11:12:27.286182Z"
    },
    "papermill": {
     "duration": 0.391543,
     "end_time": "2023-10-05T11:12:27.290308",
     "exception": false,
     "start_time": "2023-10-05T11:12:26.898765",
     "status": "completed"
    },
    "tags": []
   },
   "outputs": [],
   "source": [
    "import joblib\n",
    "import pickle\n",
    "import base64\n",
    "import matplotlib.pyplot as plt\n",
    "import pandas as pd\n",
    "import warnings\n",
    "import numpy as np\n",
    "import tensorflow as tf\n",
    "from tensorflow.keras.callbacks import EarlyStopping, ModelCheckpoint\n",
    "from tensorflow.keras.models import Sequential\n",
    "from tensorflow.keras.models import load_model\n",
    "from tensorflow.keras.layers import Dense, Dropout\n",
    "from tensorflow.keras.optimizers import Adam\n",
    "\n",
    "from sklearn.model_selection import train_test_split\n",
    "from sklearn.feature_extraction.text import CountVectorizer\n",
    "from sklearn.preprocessing import MinMaxScaler\n",
    "from sklearn.metrics import accuracy_score\n",
    "from imblearn.over_sampling import RandomOverSampler\n",
    "import matplotlib"
   ]
  },
  {
   "cell_type": "code",
   "execution_count": 165,
   "id": "075950c6",
   "metadata": {
    "execution": {
     "iopub.execute_input": "2023-10-05T11:12:27.303614Z",
     "iopub.status.busy": "2023-10-05T11:12:27.303109Z",
     "iopub.status.idle": "2023-10-05T11:12:27.369836Z",
     "shell.execute_reply": "2023-10-05T11:12:27.368335Z"
    },
    "papermill": {
     "duration": 0.076855,
     "end_time": "2023-10-05T11:12:27.373047",
     "exception": false,
     "start_time": "2023-10-05T11:12:27.296192",
     "status": "completed"
    },
    "tags": []
   },
   "outputs": [
    {
     "data": {
      "text/html": [
       "<div>\n",
       "<style scoped>\n",
       "    .dataframe tbody tr th:only-of-type {\n",
       "        vertical-align: middle;\n",
       "    }\n",
       "\n",
       "    .dataframe tbody tr th {\n",
       "        vertical-align: top;\n",
       "    }\n",
       "\n",
       "    .dataframe thead th {\n",
       "        text-align: right;\n",
       "    }\n",
       "</style>\n",
       "<table border=\"1\" class=\"dataframe\">\n",
       "  <thead>\n",
       "    <tr style=\"text-align: right;\">\n",
       "      <th></th>\n",
       "      <th>label</th>\n",
       "      <th>text</th>\n",
       "    </tr>\n",
       "  </thead>\n",
       "  <tbody>\n",
       "    <tr>\n",
       "      <th>0</th>\n",
       "      <td>spam</td>\n",
       "      <td>naturally irresistible your corporate identity...</td>\n",
       "    </tr>\n",
       "    <tr>\n",
       "      <th>1</th>\n",
       "      <td>spam</td>\n",
       "      <td>the stock trading gunslinger fanny is merrill ...</td>\n",
       "    </tr>\n",
       "    <tr>\n",
       "      <th>2</th>\n",
       "      <td>spam</td>\n",
       "      <td>unbelievable new homes made easy im wanting to...</td>\n",
       "    </tr>\n",
       "    <tr>\n",
       "      <th>3</th>\n",
       "      <td>spam</td>\n",
       "      <td>4 color printing special request additional in...</td>\n",
       "    </tr>\n",
       "    <tr>\n",
       "      <th>4</th>\n",
       "      <td>spam</td>\n",
       "      <td>do not have money get software cds from here s...</td>\n",
       "    </tr>\n",
       "  </tbody>\n",
       "</table>\n",
       "</div>"
      ],
      "text/plain": [
       "  label                                               text\n",
       "0  spam  naturally irresistible your corporate identity...\n",
       "1  spam  the stock trading gunslinger fanny is merrill ...\n",
       "2  spam  unbelievable new homes made easy im wanting to...\n",
       "3  spam  4 color printing special request additional in...\n",
       "4  spam  do not have money get software cds from here s..."
      ]
     },
     "execution_count": 165,
     "metadata": {},
     "output_type": "execute_result"
    }
   ],
   "source": [
    "df=pd.read_csv('spam_dataset.csv',encoding='latin-1')\n",
    "df.head()"
   ]
  },
  {
   "cell_type": "code",
   "execution_count": 166,
   "id": "4d59ac45",
   "metadata": {
    "execution": {
     "iopub.execute_input": "2023-10-05T11:12:27.417933Z",
     "iopub.status.busy": "2023-10-05T11:12:27.417522Z",
     "iopub.status.idle": "2023-10-05T11:12:27.425176Z",
     "shell.execute_reply": "2023-10-05T11:12:27.423817Z"
    },
    "papermill": {
     "duration": 0.018006,
     "end_time": "2023-10-05T11:12:27.428258",
     "exception": false,
     "start_time": "2023-10-05T11:12:27.410252",
     "status": "completed"
    },
    "tags": []
   },
   "outputs": [
    {
     "data": {
      "text/plain": [
       "(20348, 2)"
      ]
     },
     "execution_count": 166,
     "metadata": {},
     "output_type": "execute_result"
    }
   ],
   "source": [
    "df.shape"
   ]
  },
  {
   "cell_type": "code",
   "execution_count": 167,
   "id": "96c04d74",
   "metadata": {
    "execution": {
     "iopub.execute_input": "2023-10-05T11:12:27.442229Z",
     "iopub.status.busy": "2023-10-05T11:12:27.441783Z",
     "iopub.status.idle": "2023-10-05T11:12:27.470854Z",
     "shell.execute_reply": "2023-10-05T11:12:27.469478Z"
    },
    "papermill": {
     "duration": 0.039882,
     "end_time": "2023-10-05T11:12:27.474275",
     "exception": false,
     "start_time": "2023-10-05T11:12:27.434393",
     "status": "completed"
    },
    "tags": []
   },
   "outputs": [
    {
     "name": "stdout",
     "output_type": "stream",
     "text": [
      "<class 'pandas.core.frame.DataFrame'>\n",
      "RangeIndex: 20348 entries, 0 to 20347\n",
      "Data columns (total 2 columns):\n",
      " #   Column  Non-Null Count  Dtype \n",
      "---  ------  --------------  ----- \n",
      " 0   label   20348 non-null  object\n",
      " 1   text    20348 non-null  object\n",
      "dtypes: object(2)\n",
      "memory usage: 318.1+ KB\n"
     ]
    }
   ],
   "source": [
    "df.info()"
   ]
  },
  {
   "cell_type": "code",
   "execution_count": 168,
   "id": "fbb709c1",
   "metadata": {
    "execution": {
     "iopub.execute_input": "2023-10-05T11:12:27.487866Z",
     "iopub.status.busy": "2023-10-05T11:12:27.487444Z",
     "iopub.status.idle": "2023-10-05T11:12:27.497760Z",
     "shell.execute_reply": "2023-10-05T11:12:27.496414Z"
    },
    "papermill": {
     "duration": 0.020313,
     "end_time": "2023-10-05T11:12:27.500318",
     "exception": false,
     "start_time": "2023-10-05T11:12:27.480005",
     "status": "completed"
    },
    "tags": []
   },
   "outputs": [
    {
     "data": {
      "text/plain": [
       "0        naturally irresistible your corporate identity...\n",
       "1        the stock trading gunslinger fanny is merrill ...\n",
       "2        unbelievable new homes made easy im wanting to...\n",
       "3        4 color printing special request additional in...\n",
       "4        do not have money get software cds from here s...\n",
       "                               ...                        \n",
       "20343                                                 /ban\n",
       "20344                                                 /ban\n",
       "20345                                                 /ban\n",
       "20346                                            Kaisi hii\n",
       "20347                                              Shock q\n",
       "Name: text, Length: 20348, dtype: object"
      ]
     },
     "execution_count": 168,
     "metadata": {},
     "output_type": "execute_result"
    }
   ],
   "source": [
    "df['text']"
   ]
  },
  {
   "cell_type": "code",
   "execution_count": 169,
   "id": "06a37872",
   "metadata": {
    "execution": {
     "iopub.execute_input": "2023-10-05T11:12:27.515497Z",
     "iopub.status.busy": "2023-10-05T11:12:27.514935Z",
     "iopub.status.idle": "2023-10-05T11:12:27.526956Z",
     "shell.execute_reply": "2023-10-05T11:12:27.525828Z"
    },
    "papermill": {
     "duration": 0.023478,
     "end_time": "2023-10-05T11:12:27.529727",
     "exception": false,
     "start_time": "2023-10-05T11:12:27.506249",
     "status": "completed"
    },
    "tags": []
   },
   "outputs": [],
   "source": [
    "df.drop_duplicates(inplace=True)"
   ]
  },
  {
   "cell_type": "code",
   "execution_count": 170,
   "id": "6dfa0995",
   "metadata": {},
   "outputs": [
    {
     "name": "stdout",
     "output_type": "stream",
     "text": [
      "spam_count: 6011\n",
      "ham_count: 14323\n",
      "total_messages: 20334\n"
     ]
    }
   ],
   "source": [
    "spam_count = len(df[df['label'] == 'spam'])\n",
    "ham_count = len(df[df['label'] == 'ham'])\n",
    "total_messages = len(df)\n",
    "spam_percentage = (spam_count / total_messages) * 100\n",
    "ham_percentage = (ham_count / total_messages) * 100\n",
    "print(f\"spam_count: {spam_count}\")\n",
    "print(f\"ham_count: {ham_count}\")\n",
    "print(f\"total_messages: {total_messages}\")\n"
   ]
  },
  {
   "cell_type": "code",
   "execution_count": 171,
   "id": "bca26e88",
   "metadata": {},
   "outputs": [
    {
     "data": {
      "text/plain": [
       "(-1.1840870762563476,\n",
       " 1.104003570880801,\n",
       " -1.1029919364543506,\n",
       " 1.1628821183506632)"
      ]
     },
     "execution_count": 171,
     "metadata": {},
     "output_type": "execute_result"
    },
    {
     "data": {
      "image/png": "[encoded data removed]",
      "text/plain": [
       "<Figure size 600x600 with 1 Axes>"
      ]
     },
     "metadata": {},
     "output_type": "display_data"
    }
   ],
   "source": [
    "labels = ['Spam', 'Regular (ham)']\n",
    "sizes = [spam_percentage, ham_percentage]\n",
    "colors = ['#ff9999', '#66b3ff']\n",
    "explode = (0.1, 0)\n",
    "\n",
    "plt.figure(figsize=(6, 6))\n",
    "plt.pie(sizes, explode=explode, labels=labels, colors=colors, autopct='%1.1f%%', startangle=90)\n",
    "plt.title('Percentage of Spam Messages to Regular Messages')\n",
    "plt.axis('equal')"
   ]
  },
  {
   "cell_type": "code",
   "execution_count": 172,
   "id": "a1acb3aa",
   "metadata": {
    "execution": {
     "iopub.execute_input": "2023-10-05T11:12:27.543729Z",
     "iopub.status.busy": "2023-10-05T11:12:27.543290Z",
     "iopub.status.idle": "2023-10-05T11:12:27.835333Z",
     "shell.execute_reply": "2023-10-05T11:12:27.834419Z"
    },
    "papermill": {
     "duration": 0.302042,
     "end_time": "2023-10-05T11:12:27.837792",
     "exception": false,
     "start_time": "2023-10-05T11:12:27.535750",
     "status": "completed"
    },
    "tags": []
   },
   "outputs": [
    {
     "data": {
      "text/plain": [
       "<Axes: xlabel='label'>"
      ]
     },
     "execution_count": 172,
     "metadata": {},
     "output_type": "execute_result"
    },
    {
     "data": {
      "image/png": "[encoded data removed]",
      "text/plain": [
       "<Figure size 640x480 with 1 Axes>"
      ]
     },
     "metadata": {},
     "output_type": "display_data"
    }
   ],
   "source": [
    "df['label'].value_counts().plot.bar()"
   ]
  },
  {
   "cell_type": "code",
   "execution_count": 173,
   "id": "cf86e0a6",
   "metadata": {},
   "outputs": [
    {
     "data": {
      "text/plain": [
       "Text(0.5, 1.0, 'Distribution of Number of Characters in Messages')"
      ]
     },
     "execution_count": 173,
     "metadata": {},
     "output_type": "execute_result"
    },
    {
     "data": {
      "image/png": "[encoded data removed]",
      "text/plain": [
       "<Figure size 800x600 with 1 Axes>"
      ]
     },
     "metadata": {},
     "output_type": "display_data"
    }
   ],
   "source": [
    "df['number_of_characters_in_the_message'] = df['text'].apply(len)\n",
    "plt.figure(figsize=(8, 6))\n",
    "df['number_of_characters_in_the_message'].hist(bins=50, color='skyblue', edgecolor='black')\n",
    "plt.xlabel('Number of Characters in the Message')\n",
    "plt.ylabel('Frequency')\n",
    "plt.title('Distribution of Number of Characters in Messages')"
   ]
  },
  {
   "cell_type": "markdown",
   "id": "d89a599e",
   "metadata": {
    "papermill": {
     "duration": 0.010612,
     "end_time": "2023-10-05T11:12:29.579463",
     "exception": false,
     "start_time": "2023-10-05T11:12:29.568851",
     "status": "completed"
    },
    "tags": []
   },
   "source": [
    "# Data PreProcessing"
   ]
  },
  {
   "cell_type": "code",
   "execution_count": 174,
   "id": "e7145761",
   "metadata": {
    "execution": {
     "iopub.execute_input": "2023-10-05T11:12:29.604052Z",
     "iopub.status.busy": "2023-10-05T11:12:29.603704Z",
     "iopub.status.idle": "2023-10-05T11:12:29.616743Z",
     "shell.execute_reply": "2023-10-05T11:12:29.615712Z"
    },
    "papermill": {
     "duration": 0.032517,
     "end_time": "2023-10-05T11:12:29.622664",
     "exception": false,
     "start_time": "2023-10-05T11:12:29.590147",
     "status": "completed"
    },
    "tags": []
   },
   "outputs": [
    {
     "data": {
      "text/plain": [
       "0        naturally irresistible your corporate identity...\n",
       "1        the stock trading gunslinger fanny is merrill ...\n",
       "2        unbelievable new homes made easy im wanting to...\n",
       "3        4 color printing special request additional in...\n",
       "4        do not have money get software cds from here s...\n",
       "                               ...                        \n",
       "20333    SPAM ALERT  ð  User:     Username: @DillyBu...\n",
       "20341                                             Hum ky h\n",
       "20342                                                 /ban\n",
       "20346                                            Kaisi hii\n",
       "20347                                              Shock q\n",
       "Name: text, Length: 20334, dtype: object"
      ]
     },
     "execution_count": 174,
     "metadata": {},
     "output_type": "execute_result"
    }
   ],
   "source": [
    "def lowerChange(text):\n",
    "    return text.lower() \n",
    "\n",
    "df['']=df['text'].apply(lowerChange)\n",
    "df['text']"
   ]
  },
  {
   "cell_type": "code",
   "execution_count": 175,
   "id": "9f9fb35e",
   "metadata": {
    "execution": {
     "iopub.execute_input": "2023-10-05T11:12:29.666289Z",
     "iopub.status.busy": "2023-10-05T11:12:29.665783Z",
     "iopub.status.idle": "2023-10-05T11:12:33.673890Z",
     "shell.execute_reply": "2023-10-05T11:12:33.672206Z"
    },
    "papermill": {
     "duration": 4.033308,
     "end_time": "2023-10-05T11:12:33.675888",
     "exception": false,
     "start_time": "2023-10-05T11:12:29.642580",
     "status": "completed"
    },
    "tags": []
   },
   "outputs": [
    {
     "data": {
      "text/html": [
       "<div>\n",
       "<style scoped>\n",
       "    .dataframe tbody tr th:only-of-type {\n",
       "        vertical-align: middle;\n",
       "    }\n",
       "\n",
       "    .dataframe tbody tr th {\n",
       "        vertical-align: top;\n",
       "    }\n",
       "\n",
       "    .dataframe thead th {\n",
       "        text-align: right;\n",
       "    }\n",
       "</style>\n",
       "<table border=\"1\" class=\"dataframe\">\n",
       "  <thead>\n",
       "    <tr style=\"text-align: right;\">\n",
       "      <th></th>\n",
       "      <th>label</th>\n",
       "      <th>text</th>\n",
       "      <th>number_of_characters_in_the_message</th>\n",
       "      <th></th>\n",
       "      <th>txt</th>\n",
       "    </tr>\n",
       "  </thead>\n",
       "  <tbody>\n",
       "    <tr>\n",
       "      <th>0</th>\n",
       "      <td>spam</td>\n",
       "      <td>naturally irresistible your corporate identity...</td>\n",
       "      <td>769</td>\n",
       "      <td>naturally irresistible your corporate identity...</td>\n",
       "      <td>[naturally, irresistible, corporate, identity,...</td>\n",
       "    </tr>\n",
       "    <tr>\n",
       "      <th>1</th>\n",
       "      <td>spam</td>\n",
       "      <td>the stock trading gunslinger fanny is merrill ...</td>\n",
       "      <td>585</td>\n",
       "      <td>the stock trading gunslinger fanny is merrill ...</td>\n",
       "      <td>[stock, trading, gunslinger, fanny, merrill, m...</td>\n",
       "    </tr>\n",
       "    <tr>\n",
       "      <th>2</th>\n",
       "      <td>spam</td>\n",
       "      <td>unbelievable new homes made easy im wanting to...</td>\n",
       "      <td>416</td>\n",
       "      <td>unbelievable new homes made easy im wanting to...</td>\n",
       "      <td>[unbelievable, new, homes, made, easy, im, wan...</td>\n",
       "    </tr>\n",
       "    <tr>\n",
       "      <th>3</th>\n",
       "      <td>spam</td>\n",
       "      <td>4 color printing special request additional in...</td>\n",
       "      <td>436</td>\n",
       "      <td>4 color printing special request additional in...</td>\n",
       "      <td>[color, printing, special, request, additional...</td>\n",
       "    </tr>\n",
       "    <tr>\n",
       "      <th>4</th>\n",
       "      <td>spam</td>\n",
       "      <td>do not have money get software cds from here s...</td>\n",
       "      <td>199</td>\n",
       "      <td>do not have money get software cds from here s...</td>\n",
       "      <td>[money, get, software, cds, software, compatib...</td>\n",
       "    </tr>\n",
       "    <tr>\n",
       "      <th>5</th>\n",
       "      <td>spam</td>\n",
       "      <td>great nnews hello welcome to medzonline sh gro...</td>\n",
       "      <td>435</td>\n",
       "      <td>great nnews hello welcome to medzonline sh gro...</td>\n",
       "      <td>[great, nnews, hello, welcome, medzonline, sh,...</td>\n",
       "    </tr>\n",
       "    <tr>\n",
       "      <th>6</th>\n",
       "      <td>spam</td>\n",
       "      <td>here s a hot play in motion homeland security ...</td>\n",
       "      <td>762</td>\n",
       "      <td>here s a hot play in motion homeland security ...</td>\n",
       "      <td>[hot, play, motion, homeland, security, invest...</td>\n",
       "    </tr>\n",
       "    <tr>\n",
       "      <th>7</th>\n",
       "      <td>spam</td>\n",
       "      <td>save your money buy getting this thing here yo...</td>\n",
       "      <td>404</td>\n",
       "      <td>save your money buy getting this thing here yo...</td>\n",
       "      <td>[save, money, buy, getting, thing, tried, cial...</td>\n",
       "    </tr>\n",
       "    <tr>\n",
       "      <th>8</th>\n",
       "      <td>spam</td>\n",
       "      <td>undeliverable home based business for grownups...</td>\n",
       "      <td>423</td>\n",
       "      <td>undeliverable home based business for grownups...</td>\n",
       "      <td>[undeliverable, home, based, business, grownup...</td>\n",
       "    </tr>\n",
       "    <tr>\n",
       "      <th>9</th>\n",
       "      <td>spam</td>\n",
       "      <td>save your money buy getting this thing here yo...</td>\n",
       "      <td>404</td>\n",
       "      <td>save your money buy getting this thing here yo...</td>\n",
       "      <td>[save, money, buy, getting, thing, tried, cial...</td>\n",
       "    </tr>\n",
       "  </tbody>\n",
       "</table>\n",
       "</div>"
      ],
      "text/plain": [
       "  label                                               text  \\\n",
       "0  spam  naturally irresistible your corporate identity...   \n",
       "1  spam  the stock trading gunslinger fanny is merrill ...   \n",
       "2  spam  unbelievable new homes made easy im wanting to...   \n",
       "3  spam  4 color printing special request additional in...   \n",
       "4  spam  do not have money get software cds from here s...   \n",
       "5  spam  great nnews hello welcome to medzonline sh gro...   \n",
       "6  spam  here s a hot play in motion homeland security ...   \n",
       "7  spam  save your money buy getting this thing here yo...   \n",
       "8  spam  undeliverable home based business for grownups...   \n",
       "9  spam  save your money buy getting this thing here yo...   \n",
       "\n",
       "   number_of_characters_in_the_message  \\\n",
       "0                                  769   \n",
       "1                                  585   \n",
       "2                                  416   \n",
       "3                                  436   \n",
       "4                                  199   \n",
       "5                                  435   \n",
       "6                                  762   \n",
       "7                                  404   \n",
       "8                                  423   \n",
       "9                                  404   \n",
       "\n",
       "                                                      \\\n",
       "0  naturally irresistible your corporate identity...   \n",
       "1  the stock trading gunslinger fanny is merrill ...   \n",
       "2  unbelievable new homes made easy im wanting to...   \n",
       "3  4 color printing special request additional in...   \n",
       "4  do not have money get software cds from here s...   \n",
       "5  great nnews hello welcome to medzonline sh gro...   \n",
       "6  here s a hot play in motion homeland security ...   \n",
       "7  save your money buy getting this thing here yo...   \n",
       "8  undeliverable home based business for grownups...   \n",
       "9  save your money buy getting this thing here yo...   \n",
       "\n",
       "                                                 txt  \n",
       "0  [naturally, irresistible, corporate, identity,...  \n",
       "1  [stock, trading, gunslinger, fanny, merrill, m...  \n",
       "2  [unbelievable, new, homes, made, easy, im, wan...  \n",
       "3  [color, printing, special, request, additional...  \n",
       "4  [money, get, software, cds, software, compatib...  \n",
       "5  [great, nnews, hello, welcome, medzonline, sh,...  \n",
       "6  [hot, play, motion, homeland, security, invest...  \n",
       "7  [save, money, buy, getting, thing, tried, cial...  \n",
       "8  [undeliverable, home, based, business, grownup...  \n",
       "9  [save, money, buy, getting, thing, tried, cial...  "
      ]
     },
     "execution_count": 175,
     "metadata": {},
     "output_type": "execute_result"
    }
   ],
   "source": [
    "import re\n",
    "from nltk.corpus import stopwords\n",
    "from nltk.tokenize import word_tokenize\n",
    "\n",
    "\n",
    "def Preprocess(text):\n",
    "    #Remove punctations & numbers\n",
    "    text=re.sub(r\"[^a-zA-Z]\", \" \", text)\n",
    "    \n",
    "    #tokenize sentence into words \n",
    "    words=word_tokenize(text)\n",
    "    \n",
    "    #Remove stopwords\n",
    "    stop_words=set(stopwords.words(\"english\"))\n",
    "    words=[word for word in words if word not in stop_words]\n",
    "    \n",
    "    return words\n",
    "    \n",
    "\n",
    "df['txt']=df['text'].apply(Preprocess)\n",
    "df.head(10)"
   ]
  },
  {
   "cell_type": "code",
   "execution_count": 176,
   "id": "36711dbd",
   "metadata": {
    "execution": {
     "iopub.execute_input": "2023-10-05T11:12:33.699974Z",
     "iopub.status.busy": "2023-10-05T11:12:33.698992Z",
     "iopub.status.idle": "2023-10-05T11:12:33.707476Z",
     "shell.execute_reply": "2023-10-05T11:12:33.706082Z"
    },
    "papermill": {
     "duration": 0.022803,
     "end_time": "2023-10-05T11:12:33.709581",
     "exception": false,
     "start_time": "2023-10-05T11:12:33.686778",
     "status": "completed"
    },
    "tags": []
   },
   "outputs": [],
   "source": [
    "df.drop('text',axis=1,inplace=True)\n"
   ]
  },
  {
   "cell_type": "markdown",
   "id": "94f9fda5",
   "metadata": {
    "papermill": {
     "duration": 0.010305,
     "end_time": "2023-10-05T11:12:33.730520",
     "exception": false,
     "start_time": "2023-10-05T11:12:33.720215",
     "status": "completed"
    },
    "tags": []
   },
   "source": [
    "1=Spam\n",
    "0=Ham"
   ]
  },
  {
   "cell_type": "code",
   "execution_count": 177,
   "id": "7e6d5edf",
   "metadata": {
    "execution": {
     "iopub.execute_input": "2023-10-05T11:12:33.755069Z",
     "iopub.status.busy": "2023-10-05T11:12:33.754614Z",
     "iopub.status.idle": "2023-10-05T11:12:33.768400Z",
     "shell.execute_reply": "2023-10-05T11:12:33.767084Z"
    },
    "papermill": {
     "duration": 0.029287,
     "end_time": "2023-10-05T11:12:33.770589",
     "exception": false,
     "start_time": "2023-10-05T11:12:33.741302",
     "status": "completed"
    },
    "tags": []
   },
   "outputs": [],
   "source": [
    "df = pd.read_csv('spam_dataset.csv', skiprows=1, names=['label', 'text'])\n",
    "df['label'] = df['label'].map({'spam': 1, 'ham': 0})"
   ]
  },
  {
   "cell_type": "markdown",
   "id": "2714a5ad",
   "metadata": {
    "papermill": {
     "duration": 0.020427,
     "end_time": "2023-10-05T11:12:36.765183",
     "exception": false,
     "start_time": "2023-10-05T11:12:36.744756",
     "status": "completed"
    },
    "tags": []
   },
   "source": [
    "# Vectorize Text"
   ]
  },
  {
   "cell_type": "code",
   "execution_count": 178,
   "id": "87e1a96b",
   "metadata": {
    "execution": {
     "iopub.execute_input": "2023-10-05T11:12:36.810244Z",
     "iopub.status.busy": "2023-10-05T11:12:36.809810Z",
     "iopub.status.idle": "2023-10-05T11:12:36.822576Z",
     "shell.execute_reply": "2023-10-05T11:12:36.821406Z"
    },
    "papermill": {
     "duration": 0.038576,
     "end_time": "2023-10-05T11:12:36.824792",
     "exception": false,
     "start_time": "2023-10-05T11:12:36.786216",
     "status": "completed"
    },
    "tags": []
   },
   "outputs": [
    {
     "data": {
      "text/html": [
       "<div>\n",
       "<style scoped>\n",
       "    .dataframe tbody tr th:only-of-type {\n",
       "        vertical-align: middle;\n",
       "    }\n",
       "\n",
       "    .dataframe tbody tr th {\n",
       "        vertical-align: top;\n",
       "    }\n",
       "\n",
       "    .dataframe thead th {\n",
       "        text-align: right;\n",
       "    }\n",
       "</style>\n",
       "<table border=\"1\" class=\"dataframe\">\n",
       "  <thead>\n",
       "    <tr style=\"text-align: right;\">\n",
       "      <th></th>\n",
       "      <th>label</th>\n",
       "      <th>text</th>\n",
       "    </tr>\n",
       "  </thead>\n",
       "  <tbody>\n",
       "    <tr>\n",
       "      <th>0</th>\n",
       "      <td>1</td>\n",
       "      <td>naturally irresistible your corporate identity...</td>\n",
       "    </tr>\n",
       "    <tr>\n",
       "      <th>1</th>\n",
       "      <td>1</td>\n",
       "      <td>the stock trading gunslinger fanny is merrill ...</td>\n",
       "    </tr>\n",
       "    <tr>\n",
       "      <th>2</th>\n",
       "      <td>1</td>\n",
       "      <td>unbelievable new homes made easy im wanting to...</td>\n",
       "    </tr>\n",
       "    <tr>\n",
       "      <th>3</th>\n",
       "      <td>1</td>\n",
       "      <td>4 color printing special request additional in...</td>\n",
       "    </tr>\n",
       "    <tr>\n",
       "      <th>4</th>\n",
       "      <td>1</td>\n",
       "      <td>do not have money get software cds from here s...</td>\n",
       "    </tr>\n",
       "  </tbody>\n",
       "</table>\n",
       "</div>"
      ],
      "text/plain": [
       "   label                                               text\n",
       "0      1  naturally irresistible your corporate identity...\n",
       "1      1  the stock trading gunslinger fanny is merrill ...\n",
       "2      1  unbelievable new homes made easy im wanting to...\n",
       "3      1  4 color printing special request additional in...\n",
       "4      1  do not have money get software cds from here s..."
      ]
     },
     "execution_count": 178,
     "metadata": {},
     "output_type": "execute_result"
    }
   ],
   "source": [
    "df.head()"
   ]
  },
  {
   "cell_type": "markdown",
   "id": "b8e2eef6",
   "metadata": {},
   "source": [
    "# DATA SPLITTING"
   ]
  },
  {
   "cell_type": "code",
   "execution_count": 179,
   "id": "2b43cd57",
   "metadata": {
    "execution": {
     "iopub.execute_input": "2023-10-05T11:12:37.046431Z",
     "iopub.status.busy": "2023-10-05T11:12:37.044677Z",
     "iopub.status.idle": "2023-10-05T11:12:37.174902Z",
     "shell.execute_reply": "2023-10-05T11:12:37.173464Z"
    },
    "papermill": {
     "duration": 0.157109,
     "end_time": "2023-10-05T11:12:37.177450",
     "exception": false,
     "start_time": "2023-10-05T11:12:37.020341",
     "status": "completed"
    },
    "tags": []
   },
   "outputs": [],
   "source": [
    "train_data, temp_data, train_labels, temp_labels = train_test_split(\n",
    "    df['text'], df['label'], test_size=0.2, random_state=100\n",
    ")\n",
    "\n",
    "test_data, cv_data, test_labels, cv_labels = train_test_split(\n",
    "    temp_data, temp_labels, test_size=0.5, random_state=100\n",
    ")"
   ]
  },
  {
   "cell_type": "markdown",
   "id": "7e61e898",
   "metadata": {},
   "source": [
    "# RESAMPLING"
   ]
  },
  {
   "cell_type": "code",
   "execution_count": 180,
   "id": "1e52fccd",
   "metadata": {},
   "outputs": [],
   "source": [
    "vectorizer = CountVectorizer(max_features=400)\n",
    "train_data_numeric = vectorizer.fit_transform(train_data).toarray()\n",
    "test_data_numeric = vectorizer.transform(test_data).toarray()\n",
    "\n",
    "ros = RandomOverSampler(random_state=42)\n",
    "train_data_resampled, train_labels_resampled = ros.fit_resample(train_data_numeric, train_labels)\n",
    "scaler = MinMaxScaler()\n",
    "train_data_normalized = scaler.fit_transform(train_data_resampled)\n",
    "test_data_normalized = scaler.transform(test_data_numeric)\n",
    "\n",
    "class_weights = {\n",
    "    0: 1.0,\n",
    "    1: 1.3\n",
    "}"
   ]
  },
  {
   "cell_type": "markdown",
   "id": "6fadb5b7",
   "metadata": {
    "papermill": {
     "duration": 0.019064,
     "end_time": "2023-10-05T11:12:37.215764",
     "exception": false,
     "start_time": "2023-10-05T11:12:37.196700",
     "status": "completed"
    },
    "tags": []
   },
   "source": [
    "# MODELLING"
   ]
  },
  {
   "cell_type": "code",
   "execution_count": 181,
   "id": "a0432630",
   "metadata": {
    "execution": {
     "iopub.execute_input": "2023-10-05T11:12:37.256529Z",
     "iopub.status.busy": "2023-10-05T11:12:37.255884Z",
     "iopub.status.idle": "2023-10-05T11:12:39.109804Z",
     "shell.execute_reply": "2023-10-05T11:12:39.108258Z"
    },
    "papermill": {
     "duration": 1.877478,
     "end_time": "2023-10-05T11:12:39.112512",
     "exception": false,
     "start_time": "2023-10-05T11:12:37.235034",
     "status": "completed"
    },
    "tags": []
   },
   "outputs": [],
   "source": [
    "tf.random.set_seed(1234)\n",
    "\n",
    "model = Sequential([\n",
    "    Dense(128, activation='relu', input_shape=(400,), name=\"L1\"),\n",
    "    Dropout(0.5),\n",
    "    Dense(64, activation='relu', name=\"L2\"),\n",
    "    Dropout(0.3),\n",
    "    Dense(32, activation='relu', name=\"L3\"),\n",
    "    Dropout(0.3),\n",
    "    Dense(1, activation='sigmoid', name=\"Output\"),\n",
    "], name=\"my_model\")\n",
    "\n",
    "initial_learning_rate = 0.0001\n",
    "lr_schedule = tf.keras.optimizers.schedules.ExponentialDecay(\n",
    "    initial_learning_rate, decay_steps=10000, decay_rate=0.9, staircase=True\n",
    ")\n",
    "\n",
    "model.compile(\n",
    "    loss=tf.keras.losses.BinaryCrossentropy(),\n",
    "    optimizer=Adam(learning_rate=lr_schedule),\n",
    "    metrics=['accuracy']\n",
    ")"
   ]
  },
  {
   "cell_type": "code",
   "execution_count": 182,
   "id": "3ee13004",
   "metadata": {
    "execution": {
     "iopub.execute_input": "2023-10-05T11:12:39.154763Z",
     "iopub.status.busy": "2023-10-05T11:12:39.154416Z",
     "iopub.status.idle": "2023-10-05T11:12:39.470918Z",
     "shell.execute_reply": "2023-10-05T11:12:39.469288Z"
    },
    "papermill": {
     "duration": 0.342414,
     "end_time": "2023-10-05T11:12:39.475155",
     "exception": false,
     "start_time": "2023-10-05T11:12:39.132741",
     "status": "completed"
    },
    "tags": []
   },
   "outputs": [],
   "source": [
    "early_stopping = EarlyStopping(monitor='val_loss', patience=10, restore_best_weights=True)"
   ]
  },
  {
   "cell_type": "code",
   "execution_count": 183,
   "id": "3f3bb01c",
   "metadata": {
    "execution": {
     "iopub.execute_input": "2023-10-05T11:12:39.572749Z",
     "iopub.status.busy": "2023-10-05T11:12:39.571914Z",
     "iopub.status.idle": "2023-10-05T11:12:39.590392Z",
     "shell.execute_reply": "2023-10-05T11:12:39.588427Z"
    },
    "papermill": {
     "duration": 0.072715,
     "end_time": "2023-10-05T11:12:39.593713",
     "exception": false,
     "start_time": "2023-10-05T11:12:39.520998",
     "status": "completed"
    },
    "tags": []
   },
   "outputs": [],
   "source": [
    "model_checkpoint = ModelCheckpoint(\n",
    "    'spam_classifier_model.h5',\n",
    "    save_best_only=True,\n",
    "    save_weights_only=False,\n",
    "    monitor='val_loss',\n",
    "    mode='min',\n",
    "    verbose=1\n",
    ")"
   ]
  },
  {
   "cell_type": "markdown",
   "id": "61facba9",
   "metadata": {},
   "source": [
    "# TRAINING "
   ]
  },
  {
   "cell_type": "code",
   "execution_count": 184,
   "id": "29eaec2a",
   "metadata": {},
   "outputs": [],
   "source": [
    "def data_generator(data, labels, batch_size):\n",
    "    num_samples = len(data)\n",
    "    while True:\n",
    "        indices = np.random.choice(num_samples, batch_size, replace=False)\n",
    "        yield data[indices], np.array(labels[indices])[:, np.newaxis]\n"
   ]
  },
  {
   "cell_type": "code",
   "execution_count": 185,
   "id": "96ba7e32",
   "metadata": {},
   "outputs": [
    {
     "name": "stdout",
     "output_type": "stream",
     "text": [
      "352/353 [============================>.] - ETA: 0s - loss: 0.7797 - accuracy: 0.5567\n",
      "Epoch 1: val_loss improved from inf to 0.67799, saving model to spam_classifier_model.h5\n",
      "353/353 [==============================] - 2s 4ms/step - loss: 0.7795 - accuracy: 0.5568 - val_loss: 0.6780 - val_accuracy: 0.4791\n",
      " 15/353 [>.............................] - ETA: 1s - loss: 0.7428 - accuracy: 0.6256"
     ]
    },
    {
     "name": "stderr",
     "output_type": "stream",
     "text": [
      "d:\\OneDrive\\Desktop\\neural_network_with_flask\\my_env\\Lib\\site-packages\\keras\\src\\engine\\training.py:3103: UserWarning: You are saving your model as an HDF5 file via `model.save()`. This file format is considered legacy. We recommend using instead the native Keras format, e.g. `model.save('my_model.keras')`.\n",
      "  saving_api.save_model(\n"
     ]
    },
    {
     "name": "stdout",
     "output_type": "stream",
     "text": [
      "348/353 [============================>.] - ETA: 0s - loss: 0.6565 - accuracy: 0.6788\n",
      "Epoch 1: val_loss improved from 0.67799 to 0.47642, saving model to spam_classifier_model.h5\n",
      "353/353 [==============================] - 1s 4ms/step - loss: 0.6551 - accuracy: 0.6799 - val_loss: 0.4764 - val_accuracy: 0.7263\n",
      "  1/353 [..............................] - ETA: 5s - loss: 0.5301 - accuracy: 0.8308"
     ]
    },
    {
     "name": "stderr",
     "output_type": "stream",
     "text": [
      "d:\\OneDrive\\Desktop\\neural_network_with_flask\\my_env\\Lib\\site-packages\\keras\\src\\engine\\training.py:3103: UserWarning: You are saving your model as an HDF5 file via `model.save()`. This file format is considered legacy. We recommend using instead the native Keras format, e.g. `model.save('my_model.keras')`.\n",
      "  saving_api.save_model(\n"
     ]
    },
    {
     "name": "stdout",
     "output_type": "stream",
     "text": [
      "348/353 [============================>.] - ETA: 0s - loss: 0.5111 - accuracy: 0.7763\n",
      "Epoch 1: val_loss improved from 0.47642 to 0.39689, saving model to spam_classifier_model.h5\n",
      "353/353 [==============================] - 1s 4ms/step - loss: 0.5107 - accuracy: 0.7763 - val_loss: 0.3969 - val_accuracy: 0.8206\n"
     ]
    },
    {
     "name": "stderr",
     "output_type": "stream",
     "text": [
      "d:\\OneDrive\\Desktop\\neural_network_with_flask\\my_env\\Lib\\site-packages\\keras\\src\\engine\\training.py:3103: UserWarning: You are saving your model as an HDF5 file via `model.save()`. This file format is considered legacy. We recommend using instead the native Keras format, e.g. `model.save('my_model.keras')`.\n",
      "  saving_api.save_model(\n"
     ]
    },
    {
     "name": "stdout",
     "output_type": "stream",
     "text": [
      "350/353 [============================>.] - ETA: 0s - loss: 0.4438 - accuracy: 0.8118\n",
      "Epoch 1: val_loss improved from 0.39689 to 0.35850, saving model to spam_classifier_model.h5\n",
      "353/353 [==============================] - 1s 4ms/step - loss: 0.4442 - accuracy: 0.8116 - val_loss: 0.3585 - val_accuracy: 0.8398\n",
      "  1/353 [..............................] - ETA: 5s - loss: 0.4795 - accuracy: 0.8000"
     ]
    },
    {
     "name": "stderr",
     "output_type": "stream",
     "text": [
      "d:\\OneDrive\\Desktop\\neural_network_with_flask\\my_env\\Lib\\site-packages\\keras\\src\\engine\\training.py:3103: UserWarning: You are saving your model as an HDF5 file via `model.save()`. This file format is considered legacy. We recommend using instead the native Keras format, e.g. `model.save('my_model.keras')`.\n",
      "  saving_api.save_model(\n"
     ]
    },
    {
     "name": "stdout",
     "output_type": "stream",
     "text": [
      "346/353 [============================>.] - ETA: 0s - loss: 0.4141 - accuracy: 0.8249\n",
      "Epoch 1: val_loss improved from 0.35850 to 0.34288, saving model to spam_classifier_model.h5\n",
      "353/353 [==============================] - 2s 5ms/step - loss: 0.4142 - accuracy: 0.8249 - val_loss: 0.3429 - val_accuracy: 0.8590\n",
      "  1/353 [..............................] - ETA: 7s - loss: 0.3209 - accuracy: 0.8615"
     ]
    },
    {
     "name": "stderr",
     "output_type": "stream",
     "text": [
      "d:\\OneDrive\\Desktop\\neural_network_with_flask\\my_env\\Lib\\site-packages\\keras\\src\\engine\\training.py:3103: UserWarning: You are saving your model as an HDF5 file via `model.save()`. This file format is considered legacy. We recommend using instead the native Keras format, e.g. `model.save('my_model.keras')`.\n",
      "  saving_api.save_model(\n"
     ]
    },
    {
     "name": "stdout",
     "output_type": "stream",
     "text": [
      "347/353 [============================>.] - ETA: 0s - loss: 0.3879 - accuracy: 0.8411\n",
      "Epoch 1: val_loss improved from 0.34288 to 0.33723, saving model to spam_classifier_model.h5\n",
      "353/353 [==============================] - 2s 5ms/step - loss: 0.3872 - accuracy: 0.8413 - val_loss: 0.3372 - val_accuracy: 0.8536\n"
     ]
    },
    {
     "name": "stderr",
     "output_type": "stream",
     "text": [
      "d:\\OneDrive\\Desktop\\neural_network_with_flask\\my_env\\Lib\\site-packages\\keras\\src\\engine\\training.py:3103: UserWarning: You are saving your model as an HDF5 file via `model.save()`. This file format is considered legacy. We recommend using instead the native Keras format, e.g. `model.save('my_model.keras')`.\n",
      "  saving_api.save_model(\n"
     ]
    },
    {
     "name": "stdout",
     "output_type": "stream",
     "text": [
      "352/353 [============================>.] - ETA: 0s - loss: 0.3780 - accuracy: 0.8456\n",
      "Epoch 1: val_loss improved from 0.33723 to 0.31652, saving model to spam_classifier_model.h5\n",
      "353/353 [==============================] - 2s 5ms/step - loss: 0.3785 - accuracy: 0.8456 - val_loss: 0.3165 - val_accuracy: 0.8698\n"
     ]
    },
    {
     "name": "stderr",
     "output_type": "stream",
     "text": [
      "d:\\OneDrive\\Desktop\\neural_network_with_flask\\my_env\\Lib\\site-packages\\keras\\src\\engine\\training.py:3103: UserWarning: You are saving your model as an HDF5 file via `model.save()`. This file format is considered legacy. We recommend using instead the native Keras format, e.g. `model.save('my_model.keras')`.\n",
      "  saving_api.save_model(\n"
     ]
    },
    {
     "name": "stdout",
     "output_type": "stream",
     "text": [
      "351/353 [============================>.] - ETA: 0s - loss: 0.3657 - accuracy: 0.8496\n",
      "Epoch 1: val_loss improved from 0.31652 to 0.31641, saving model to spam_classifier_model.h5\n",
      "353/353 [==============================] - 2s 5ms/step - loss: 0.3653 - accuracy: 0.8497 - val_loss: 0.3164 - val_accuracy: 0.8678\n"
     ]
    },
    {
     "name": "stderr",
     "output_type": "stream",
     "text": [
      "d:\\OneDrive\\Desktop\\neural_network_with_flask\\my_env\\Lib\\site-packages\\keras\\src\\engine\\training.py:3103: UserWarning: You are saving your model as an HDF5 file via `model.save()`. This file format is considered legacy. We recommend using instead the native Keras format, e.g. `model.save('my_model.keras')`.\n",
      "  saving_api.save_model(\n"
     ]
    },
    {
     "name": "stdout",
     "output_type": "stream",
     "text": [
      "348/353 [============================>.] - ETA: 0s - loss: 0.3493 - accuracy: 0.8576\n",
      "Epoch 1: val_loss improved from 0.31641 to 0.30206, saving model to spam_classifier_model.h5\n",
      "353/353 [==============================] - 2s 5ms/step - loss: 0.3497 - accuracy: 0.8574 - val_loss: 0.3021 - val_accuracy: 0.8752\n"
     ]
    },
    {
     "name": "stderr",
     "output_type": "stream",
     "text": [
      "d:\\OneDrive\\Desktop\\neural_network_with_flask\\my_env\\Lib\\site-packages\\keras\\src\\engine\\training.py:3103: UserWarning: You are saving your model as an HDF5 file via `model.save()`. This file format is considered legacy. We recommend using instead the native Keras format, e.g. `model.save('my_model.keras')`.\n",
      "  saving_api.save_model(\n"
     ]
    },
    {
     "name": "stdout",
     "output_type": "stream",
     "text": [
      "341/353 [===========================>..] - ETA: 0s - loss: 0.3473 - accuracy: 0.8562\n",
      "Epoch 1: val_loss did not improve from 0.30206\n",
      "353/353 [==============================] - 2s 5ms/step - loss: 0.3468 - accuracy: 0.8565 - val_loss: 0.3102 - val_accuracy: 0.8673\n",
      "346/353 [============================>.] - ETA: 0s - loss: 0.3387 - accuracy: 0.8603\n",
      "Epoch 1: val_loss did not improve from 0.30206\n",
      "353/353 [==============================] - 2s 4ms/step - loss: 0.3383 - accuracy: 0.8606 - val_loss: 0.3028 - val_accuracy: 0.8737\n",
      "351/353 [============================>.] - ETA: 0s - loss: 0.3287 - accuracy: 0.8653\n",
      "Epoch 1: val_loss improved from 0.30206 to 0.29842, saving model to spam_classifier_model.h5\n",
      "353/353 [==============================] - 2s 5ms/step - loss: 0.3290 - accuracy: 0.8652 - val_loss: 0.2984 - val_accuracy: 0.8747\n"
     ]
    },
    {
     "name": "stderr",
     "output_type": "stream",
     "text": [
      "d:\\OneDrive\\Desktop\\neural_network_with_flask\\my_env\\Lib\\site-packages\\keras\\src\\engine\\training.py:3103: UserWarning: You are saving your model as an HDF5 file via `model.save()`. This file format is considered legacy. We recommend using instead the native Keras format, e.g. `model.save('my_model.keras')`.\n",
      "  saving_api.save_model(\n"
     ]
    },
    {
     "name": "stdout",
     "output_type": "stream",
     "text": [
      "353/353 [==============================] - ETA: 0s - loss: 0.3295 - accuracy: 0.8665\n",
      "Epoch 1: val_loss improved from 0.29842 to 0.29133, saving model to spam_classifier_model.h5\n",
      "353/353 [==============================] - 2s 5ms/step - loss: 0.3295 - accuracy: 0.8665 - val_loss: 0.2913 - val_accuracy: 0.8742\n"
     ]
    },
    {
     "name": "stderr",
     "output_type": "stream",
     "text": [
      "d:\\OneDrive\\Desktop\\neural_network_with_flask\\my_env\\Lib\\site-packages\\keras\\src\\engine\\training.py:3103: UserWarning: You are saving your model as an HDF5 file via `model.save()`. This file format is considered legacy. We recommend using instead the native Keras format, e.g. `model.save('my_model.keras')`.\n",
      "  saving_api.save_model(\n"
     ]
    },
    {
     "name": "stdout",
     "output_type": "stream",
     "text": [
      "346/353 [============================>.] - ETA: 0s - loss: 0.3097 - accuracy: 0.8742\n",
      "Epoch 1: val_loss did not improve from 0.29133\n",
      "353/353 [==============================] - 1s 4ms/step - loss: 0.3089 - accuracy: 0.8747 - val_loss: 0.2982 - val_accuracy: 0.8683\n",
      "353/353 [==============================] - ETA: 0s - loss: 0.3083 - accuracy: 0.8771\n",
      "Epoch 1: val_loss improved from 0.29133 to 0.28310, saving model to spam_classifier_model.h5\n",
      "353/353 [==============================] - 2s 4ms/step - loss: 0.3083 - accuracy: 0.8771 - val_loss: 0.2831 - val_accuracy: 0.8801\n"
     ]
    },
    {
     "name": "stderr",
     "output_type": "stream",
     "text": [
      "d:\\OneDrive\\Desktop\\neural_network_with_flask\\my_env\\Lib\\site-packages\\keras\\src\\engine\\training.py:3103: UserWarning: You are saving your model as an HDF5 file via `model.save()`. This file format is considered legacy. We recommend using instead the native Keras format, e.g. `model.save('my_model.keras')`.\n",
      "  saving_api.save_model(\n"
     ]
    },
    {
     "name": "stdout",
     "output_type": "stream",
     "text": [
      "339/353 [===========================>..] - ETA: 0s - loss: 0.3036 - accuracy: 0.8771\n",
      "Epoch 1: val_loss improved from 0.28310 to 0.27636, saving model to spam_classifier_model.h5\n",
      "353/353 [==============================] - 1s 4ms/step - loss: 0.3025 - accuracy: 0.8777 - val_loss: 0.2764 - val_accuracy: 0.8811\n",
      "  1/353 [..............................] - ETA: 6s - loss: 0.3156 - accuracy: 0.8769"
     ]
    },
    {
     "name": "stderr",
     "output_type": "stream",
     "text": [
      "d:\\OneDrive\\Desktop\\neural_network_with_flask\\my_env\\Lib\\site-packages\\keras\\src\\engine\\training.py:3103: UserWarning: You are saving your model as an HDF5 file via `model.save()`. This file format is considered legacy. We recommend using instead the native Keras format, e.g. `model.save('my_model.keras')`.\n",
      "  saving_api.save_model(\n"
     ]
    },
    {
     "name": "stdout",
     "output_type": "stream",
     "text": [
      "344/353 [============================>.] - ETA: 0s - loss: 0.2912 - accuracy: 0.8807\n",
      "Epoch 1: val_loss did not improve from 0.27636\n",
      "353/353 [==============================] - 1s 4ms/step - loss: 0.2927 - accuracy: 0.8805 - val_loss: 0.2888 - val_accuracy: 0.8717\n",
      "350/353 [============================>.] - ETA: 0s - loss: 0.2897 - accuracy: 0.8825\n",
      "Epoch 1: val_loss did not improve from 0.27636\n",
      "353/353 [==============================] - 1s 4ms/step - loss: 0.2893 - accuracy: 0.8828 - val_loss: 0.2841 - val_accuracy: 0.8747\n",
      "347/353 [============================>.] - ETA: 0s - loss: 0.2822 - accuracy: 0.8847\n",
      "Epoch 1: val_loss did not improve from 0.27636\n",
      "353/353 [==============================] - 1s 4ms/step - loss: 0.2822 - accuracy: 0.8847 - val_loss: 0.2812 - val_accuracy: 0.8771\n",
      "350/353 [============================>.] - ETA: 0s - loss: 0.2758 - accuracy: 0.8897\n",
      "Epoch 1: val_loss improved from 0.27636 to 0.26565, saving model to spam_classifier_model.h5\n",
      "353/353 [==============================] - 1s 4ms/step - loss: 0.2760 - accuracy: 0.8893 - val_loss: 0.2657 - val_accuracy: 0.8919\n",
      "  1/353 [..............................] - ETA: 6s - loss: 0.2298 - accuracy: 0.9385"
     ]
    },
    {
     "name": "stderr",
     "output_type": "stream",
     "text": [
      "d:\\OneDrive\\Desktop\\neural_network_with_flask\\my_env\\Lib\\site-packages\\keras\\src\\engine\\training.py:3103: UserWarning: You are saving your model as an HDF5 file via `model.save()`. This file format is considered legacy. We recommend using instead the native Keras format, e.g. `model.save('my_model.keras')`.\n",
      "  saving_api.save_model(\n"
     ]
    },
    {
     "name": "stdout",
     "output_type": "stream",
     "text": [
      "353/353 [==============================] - ETA: 0s - loss: 0.2781 - accuracy: 0.8868\n",
      "Epoch 1: val_loss improved from 0.26565 to 0.25842, saving model to spam_classifier_model.h5\n",
      "353/353 [==============================] - 1s 4ms/step - loss: 0.2781 - accuracy: 0.8868 - val_loss: 0.2584 - val_accuracy: 0.8924\n",
      "  1/353 [..............................] - ETA: 6s - loss: 0.2012 - accuracy: 0.9692"
     ]
    },
    {
     "name": "stderr",
     "output_type": "stream",
     "text": [
      "d:\\OneDrive\\Desktop\\neural_network_with_flask\\my_env\\Lib\\site-packages\\keras\\src\\engine\\training.py:3103: UserWarning: You are saving your model as an HDF5 file via `model.save()`. This file format is considered legacy. We recommend using instead the native Keras format, e.g. `model.save('my_model.keras')`.\n",
      "  saving_api.save_model(\n"
     ]
    },
    {
     "name": "stdout",
     "output_type": "stream",
     "text": [
      "338/353 [===========================>..] - ETA: 0s - loss: 0.2620 - accuracy: 0.8956\n",
      "Epoch 1: val_loss did not improve from 0.25842\n",
      "353/353 [==============================] - 1s 3ms/step - loss: 0.2622 - accuracy: 0.8957 - val_loss: 0.2595 - val_accuracy: 0.8919\n",
      "342/353 [============================>.] - ETA: 0s - loss: 0.2647 - accuracy: 0.8936\n",
      "Epoch 1: val_loss improved from 0.25842 to 0.25554, saving model to spam_classifier_model.h5\n",
      "353/353 [==============================] - 1s 4ms/step - loss: 0.2653 - accuracy: 0.8934 - val_loss: 0.2555 - val_accuracy: 0.8929\n",
      "  1/353 [..............................] - ETA: 5s - loss: 0.2213 - accuracy: 0.9077"
     ]
    },
    {
     "name": "stderr",
     "output_type": "stream",
     "text": [
      "d:\\OneDrive\\Desktop\\neural_network_with_flask\\my_env\\Lib\\site-packages\\keras\\src\\engine\\training.py:3103: UserWarning: You are saving your model as an HDF5 file via `model.save()`. This file format is considered legacy. We recommend using instead the native Keras format, e.g. `model.save('my_model.keras')`.\n",
      "  saving_api.save_model(\n"
     ]
    },
    {
     "name": "stdout",
     "output_type": "stream",
     "text": [
      "346/353 [============================>.] - ETA: 0s - loss: 0.2556 - accuracy: 0.8993\n",
      "Epoch 1: val_loss improved from 0.25554 to 0.25198, saving model to spam_classifier_model.h5\n",
      "353/353 [==============================] - 2s 4ms/step - loss: 0.2560 - accuracy: 0.8989 - val_loss: 0.2520 - val_accuracy: 0.8943\n"
     ]
    },
    {
     "name": "stderr",
     "output_type": "stream",
     "text": [
      "d:\\OneDrive\\Desktop\\neural_network_with_flask\\my_env\\Lib\\site-packages\\keras\\src\\engine\\training.py:3103: UserWarning: You are saving your model as an HDF5 file via `model.save()`. This file format is considered legacy. We recommend using instead the native Keras format, e.g. `model.save('my_model.keras')`.\n",
      "  saving_api.save_model(\n"
     ]
    },
    {
     "name": "stdout",
     "output_type": "stream",
     "text": [
      "352/353 [============================>.] - ETA: 0s - loss: 0.2477 - accuracy: 0.9030\n",
      "Epoch 1: val_loss did not improve from 0.25198\n",
      "353/353 [==============================] - 2s 5ms/step - loss: 0.2477 - accuracy: 0.9029 - val_loss: 0.2611 - val_accuracy: 0.8722\n",
      "342/353 [============================>.] - ETA: 0s - loss: 0.2393 - accuracy: 0.9059\n",
      "Epoch 1: val_loss did not improve from 0.25198\n",
      "353/353 [==============================] - 2s 4ms/step - loss: 0.2398 - accuracy: 0.9055 - val_loss: 0.2583 - val_accuracy: 0.8732\n",
      "343/353 [============================>.] - ETA: 0s - loss: 0.2313 - accuracy: 0.9099\n",
      "Epoch 1: val_loss did not improve from 0.25198\n",
      "353/353 [==============================] - 2s 4ms/step - loss: 0.2323 - accuracy: 0.9097 - val_loss: 0.2604 - val_accuracy: 0.8771\n",
      "340/353 [===========================>..] - ETA: 0s - loss: 0.2349 - accuracy: 0.9058\n",
      "Epoch 1: val_loss did not improve from 0.25198\n",
      "353/353 [==============================] - 2s 5ms/step - loss: 0.2352 - accuracy: 0.9057 - val_loss: 0.2603 - val_accuracy: 0.8762\n",
      "338/353 [===========================>..] - ETA: 0s - loss: 0.2369 - accuracy: 0.9071\n",
      "Epoch 1: val_loss did not improve from 0.25198\n",
      "353/353 [==============================] - 1s 4ms/step - loss: 0.2372 - accuracy: 0.9072 - val_loss: 0.2550 - val_accuracy: 0.8786\n",
      "344/353 [============================>.] - ETA: 0s - loss: 0.2257 - accuracy: 0.9097\n",
      "Epoch 1: val_loss improved from 0.25198 to 0.25073, saving model to spam_classifier_model.h5\n",
      "353/353 [==============================] - 2s 5ms/step - loss: 0.2254 - accuracy: 0.9099 - val_loss: 0.2507 - val_accuracy: 0.8811\n"
     ]
    },
    {
     "name": "stderr",
     "output_type": "stream",
     "text": [
      "d:\\OneDrive\\Desktop\\neural_network_with_flask\\my_env\\Lib\\site-packages\\keras\\src\\engine\\training.py:3103: UserWarning: You are saving your model as an HDF5 file via `model.save()`. This file format is considered legacy. We recommend using instead the native Keras format, e.g. `model.save('my_model.keras')`.\n",
      "  saving_api.save_model(\n"
     ]
    },
    {
     "name": "stdout",
     "output_type": "stream",
     "text": [
      "338/353 [===========================>..] - ETA: 0s - loss: 0.2175 - accuracy: 0.9140\n",
      "Epoch 1: val_loss improved from 0.25073 to 0.24143, saving model to spam_classifier_model.h5\n",
      "353/353 [==============================] - 1s 4ms/step - loss: 0.2192 - accuracy: 0.9133 - val_loss: 0.2414 - val_accuracy: 0.9002\n"
     ]
    },
    {
     "name": "stderr",
     "output_type": "stream",
     "text": [
      "d:\\OneDrive\\Desktop\\neural_network_with_flask\\my_env\\Lib\\site-packages\\keras\\src\\engine\\training.py:3103: UserWarning: You are saving your model as an HDF5 file via `model.save()`. This file format is considered legacy. We recommend using instead the native Keras format, e.g. `model.save('my_model.keras')`.\n",
      "  saving_api.save_model(\n"
     ]
    },
    {
     "name": "stdout",
     "output_type": "stream",
     "text": [
      "351/353 [============================>.] - ETA: 0s - loss: 0.2166 - accuracy: 0.9111\n",
      "Epoch 1: val_loss did not improve from 0.24143\n",
      "353/353 [==============================] - 1s 4ms/step - loss: 0.2164 - accuracy: 0.9112 - val_loss: 0.2525 - val_accuracy: 0.8811\n",
      "352/353 [============================>.] - ETA: 0s - loss: 0.2146 - accuracy: 0.9154\n",
      "Epoch 1: val_loss did not improve from 0.24143\n",
      "353/353 [==============================] - 1s 4ms/step - loss: 0.2145 - accuracy: 0.9154 - val_loss: 0.2426 - val_accuracy: 0.8870\n",
      "353/353 [==============================] - ETA: 0s - loss: 0.2084 - accuracy: 0.9136\n",
      "Epoch 1: val_loss did not improve from 0.24143\n",
      "353/353 [==============================] - 1s 4ms/step - loss: 0.2084 - accuracy: 0.9136 - val_loss: 0.2499 - val_accuracy: 0.8870\n",
      "344/353 [============================>.] - ETA: 0s - loss: 0.2034 - accuracy: 0.9183\n",
      "Epoch 1: val_loss did not improve from 0.24143\n",
      "353/353 [==============================] - 1s 4ms/step - loss: 0.2027 - accuracy: 0.9185 - val_loss: 0.2452 - val_accuracy: 0.8875\n",
      "345/353 [============================>.] - ETA: 0s - loss: 0.2004 - accuracy: 0.9167\n",
      "Epoch 1: val_loss did not improve from 0.24143\n",
      "353/353 [==============================] - 2s 5ms/step - loss: 0.2002 - accuracy: 0.9165 - val_loss: 0.2522 - val_accuracy: 0.8880\n",
      "342/353 [============================>.] - ETA: 0s - loss: 0.2005 - accuracy: 0.9182\n",
      "Epoch 1: val_loss did not improve from 0.24143\n",
      "353/353 [==============================] - 1s 4ms/step - loss: 0.2002 - accuracy: 0.9185 - val_loss: 0.2484 - val_accuracy: 0.8860\n",
      "350/353 [============================>.] - ETA: 0s - loss: 0.1950 - accuracy: 0.9190\n",
      "Epoch 1: val_loss did not improve from 0.24143\n",
      "353/353 [==============================] - 1s 3ms/step - loss: 0.1946 - accuracy: 0.9192 - val_loss: 0.2457 - val_accuracy: 0.8880\n",
      "340/353 [===========================>..] - ETA: 0s - loss: 0.1909 - accuracy: 0.9235\n",
      "Epoch 1: val_loss did not improve from 0.24143\n",
      "353/353 [==============================] - 1s 3ms/step - loss: 0.1909 - accuracy: 0.9235 - val_loss: 0.2434 - val_accuracy: 0.8889\n",
      "338/353 [===========================>..] - ETA: 0s - loss: 0.1858 - accuracy: 0.9249\n",
      "Epoch 1: val_loss did not improve from 0.24143\n",
      "353/353 [==============================] - 1s 3ms/step - loss: 0.1860 - accuracy: 0.9251 - val_loss: 0.2496 - val_accuracy: 0.8899\n",
      "347/353 [============================>.] - ETA: 0s - loss: 0.1914 - accuracy: 0.9233\n",
      "Epoch 1: val_loss did not improve from 0.24143\n",
      "353/353 [==============================] - 1s 3ms/step - loss: 0.1910 - accuracy: 0.9236 - val_loss: 0.2462 - val_accuracy: 0.8899\n",
      "345/353 [============================>.] - ETA: 0s - loss: 0.1848 - accuracy: 0.9253\n",
      "Epoch 1: val_loss did not improve from 0.24143\n",
      "353/353 [==============================] - 1s 4ms/step - loss: 0.1837 - accuracy: 0.9257 - val_loss: 0.2433 - val_accuracy: 0.8919\n",
      "342/353 [============================>.] - ETA: 0s - loss: 0.1773 - accuracy: 0.9287\n",
      "Epoch 1: val_loss did not improve from 0.24143\n",
      "353/353 [==============================] - 1s 4ms/step - loss: 0.1783 - accuracy: 0.9278 - val_loss: 0.2458 - val_accuracy: 0.8924\n",
      "343/353 [============================>.] - ETA: 0s - loss: 0.1857 - accuracy: 0.9261\n",
      "Epoch 1: val_loss did not improve from 0.24143\n",
      "353/353 [==============================] - 1s 4ms/step - loss: 0.1856 - accuracy: 0.9260 - val_loss: 0.2531 - val_accuracy: 0.8899\n",
      "350/353 [============================>.] - ETA: 0s - loss: 0.1763 - accuracy: 0.9278\n",
      "Epoch 1: val_loss did not improve from 0.24143\n",
      "353/353 [==============================] - 1s 3ms/step - loss: 0.1760 - accuracy: 0.9279 - val_loss: 0.2481 - val_accuracy: 0.8919\n",
      "349/353 [============================>.] - ETA: 0s - loss: 0.1806 - accuracy: 0.9243\n",
      "Epoch 1: val_loss did not improve from 0.24143\n",
      "353/353 [==============================] - 1s 4ms/step - loss: 0.1804 - accuracy: 0.9244 - val_loss: 0.2507 - val_accuracy: 0.8909\n",
      "343/353 [============================>.] - ETA: 0s - loss: 0.1654 - accuracy: 0.9337\n",
      "Epoch 1: val_loss did not improve from 0.24143\n",
      "353/353 [==============================] - 1s 4ms/step - loss: 0.1660 - accuracy: 0.9334 - val_loss: 0.2554 - val_accuracy: 0.8904\n",
      "352/353 [============================>.] - ETA: 0s - loss: 0.1709 - accuracy: 0.9302\n",
      "Epoch 1: val_loss did not improve from 0.24143\n",
      "353/353 [==============================] - 1s 4ms/step - loss: 0.1713 - accuracy: 0.9301 - val_loss: 0.2528 - val_accuracy: 0.8924\n",
      "346/353 [============================>.] - ETA: 0s - loss: 0.1669 - accuracy: 0.9332\n",
      "Epoch 1: val_loss did not improve from 0.24143\n",
      "353/353 [==============================] - 1s 4ms/step - loss: 0.1665 - accuracy: 0.9334 - val_loss: 0.2519 - val_accuracy: 0.8904\n",
      "346/353 [============================>.] - ETA: 0s - loss: 0.1624 - accuracy: 0.9326\n",
      "Epoch 1: val_loss did not improve from 0.24143\n",
      "353/353 [==============================] - 1s 3ms/step - loss: 0.1637 - accuracy: 0.9322 - val_loss: 0.2496 - val_accuracy: 0.8914\n",
      "340/353 [===========================>..] - ETA: 0s - loss: 0.1674 - accuracy: 0.9314\n",
      "Epoch 1: val_loss did not improve from 0.24143\n",
      "353/353 [==============================] - 1s 4ms/step - loss: 0.1681 - accuracy: 0.9314 - val_loss: 0.2523 - val_accuracy: 0.8924\n",
      "350/353 [============================>.] - ETA: 0s - loss: 0.1559 - accuracy: 0.9343\n",
      "Epoch 1: val_loss did not improve from 0.24143\n",
      "353/353 [==============================] - 1s 3ms/step - loss: 0.1560 - accuracy: 0.9342 - val_loss: 0.2544 - val_accuracy: 0.8914\n",
      "339/353 [===========================>..] - ETA: 0s - loss: 0.1581 - accuracy: 0.9344\n",
      "Epoch 1: val_loss did not improve from 0.24143\n",
      "353/353 [==============================] - 1s 3ms/step - loss: 0.1579 - accuracy: 0.9345 - val_loss: 0.2510 - val_accuracy: 0.8924\n",
      "341/353 [===========================>..] - ETA: 0s - loss: 0.1589 - accuracy: 0.9325\n",
      "Epoch 1: val_loss did not improve from 0.24143\n",
      "353/353 [==============================] - 1s 3ms/step - loss: 0.1587 - accuracy: 0.9329 - val_loss: 0.2556 - val_accuracy: 0.8904\n",
      "351/353 [============================>.] - ETA: 0s - loss: 0.1596 - accuracy: 0.9353\n",
      "Epoch 1: val_loss did not improve from 0.24143\n",
      "353/353 [==============================] - 1s 3ms/step - loss: 0.1600 - accuracy: 0.9354 - val_loss: 0.2578 - val_accuracy: 0.8904\n",
      "353/353 [==============================] - ETA: 0s - loss: 0.1556 - accuracy: 0.9355\n",
      "Epoch 1: val_loss did not improve from 0.24143\n",
      "353/353 [==============================] - 1s 3ms/step - loss: 0.1556 - accuracy: 0.9355 - val_loss: 0.2567 - val_accuracy: 0.8889\n",
      "338/353 [===========================>..] - ETA: 0s - loss: 0.1537 - accuracy: 0.9361\n",
      "Epoch 1: val_loss did not improve from 0.24143\n",
      "353/353 [==============================] - 1s 3ms/step - loss: 0.1531 - accuracy: 0.9363 - val_loss: 0.2588 - val_accuracy: 0.8909\n",
      "343/353 [============================>.] - ETA: 0s - loss: 0.1481 - accuracy: 0.9408\n",
      "Epoch 1: val_loss did not improve from 0.24143\n",
      "353/353 [==============================] - 1s 3ms/step - loss: 0.1478 - accuracy: 0.9408 - val_loss: 0.2612 - val_accuracy: 0.8909\n",
      "337/353 [===========================>..] - ETA: 0s - loss: 0.1465 - accuracy: 0.9395\n",
      "Epoch 1: val_loss did not improve from 0.24143\n",
      "353/353 [==============================] - 1s 3ms/step - loss: 0.1461 - accuracy: 0.9395 - val_loss: 0.2613 - val_accuracy: 0.8943\n",
      "344/353 [============================>.] - ETA: 0s - loss: 0.1517 - accuracy: 0.9373\n",
      "Epoch 1: val_loss did not improve from 0.24143\n",
      "353/353 [==============================] - 1s 3ms/step - loss: 0.1518 - accuracy: 0.9375 - val_loss: 0.2634 - val_accuracy: 0.8929\n",
      "INFO:tensorflow:Assets written to: my_model_tf\\assets\n"
     ]
    },
    {
     "name": "stderr",
     "output_type": "stream",
     "text": [
      "INFO:tensorflow:Assets written to: my_model_tf\\assets\n"
     ]
    },
    {
     "name": "stdout",
     "output_type": "stream",
     "text": [
      "719/719 [==============================] - 1s 1ms/step\n",
      "64/64 [==============================] - 0s 1ms/step\n",
      "Train Accuracy -  0.9505614065627992\n",
      "Test Accuracy -  0.8928746928746929\n"
     ]
    }
   ],
   "source": [
    "# Clear session before starting\n",
    "tf.keras.backend.clear_session()\n",
    "\n",
    "# Training loop\n",
    "batch_size = 65\n",
    "steps_per_epoch = len(train_data_normalized) // batch_size\n",
    "\n",
    "epochs = 60\n",
    "history_list = []\n",
    "\n",
    "for epoch in range(epochs):\n",
    "    history = model.fit(\n",
    "        data_generator(train_data_normalized, train_labels_resampled, batch_size),\n",
    "        epochs=1,\n",
    "        steps_per_epoch=steps_per_epoch,\n",
    "        validation_data=(test_data_normalized, np.array(test_labels.values)[:, np.newaxis]),\n",
    "        callbacks=[early_stopping, model_checkpoint],\n",
    "        class_weight=class_weights\n",
    "    )\n",
    "\n",
    "    history_list.append(history.history)\n",
    "\n",
    "# Save training history\n",
    "with open('training_history.pkl', 'wb') as file:\n",
    "    pickle.dump(history_list, file)\n",
    "\n",
    "# Save model in the native Keras format\n",
    "model.save('my_model.keras')\n",
    "\n",
    "# Save model in TensorFlow SavedModel format\n",
    "model.save('my_model_tf')\n",
    "\n",
    "# Load the model from the TensorFlow SavedModel format\n",
    "loaded_model = tf.keras.models.load_model('my_model_tf')\n",
    "\n",
    "# Make predictions and evaluate\n",
    "train_pred_prob = loaded_model.predict(train_data_normalized)\n",
    "test_pred_prob = loaded_model.predict(test_data_normalized)\n",
    "\n",
    "train_pred = (train_pred_prob > 0.5).astype(int)\n",
    "test_pred = (test_pred_prob > 0.5).astype(int)\n",
    "\n",
    "print('Train Accuracy - ', accuracy_score(train_labels_resampled, train_pred))\n",
    "print(\"Test Accuracy - \", accuracy_score(test_labels, test_pred))"
   ]
  },
  {
   "cell_type": "markdown",
   "id": "1ee40e75",
   "metadata": {},
   "source": [
    "# RESULT"
   ]
  },
  {
   "cell_type": "code",
   "execution_count": 188,
   "id": "710df126",
   "metadata": {},
   "outputs": [
    {
     "data": {
      "text/plain": [
       "<matplotlib.legend.Legend at 0x1d8b31ed350>"
      ]
     },
     "execution_count": 188,
     "metadata": {},
     "output_type": "execute_result"
    },
    {
     "data": {
      "image/png": "[encoded data removed]",
      "text/plain": [
       "<Figure size 1200x600 with 2 Axes>"
      ]
     },
     "metadata": {},
     "output_type": "display_data"
    }
   ],
   "source": [
    "with open('training_history.pkl', 'rb') as file:\n",
    "        history_list = pickle.load(file)\n",
    "        \n",
    "accuracy = [acc for epoch_history in history_list for acc in epoch_history['accuracy']]\n",
    "val_accuracy = [val_acc for epoch_history in history_list for val_acc in epoch_history['val_accuracy']]\n",
    "loss = [l for epoch_history in history_list for l in epoch_history['loss']]\n",
    "val_loss = [val_l for epoch_history in history_list for val_l in epoch_history['val_loss']]\n",
    "\n",
    "plt.figure(figsize=(12, 6))\n",
    "\n",
    "plt.subplot(1, 2, 1)\n",
    "plt.plot(accuracy, label='accuracy')\n",
    "plt.plot(val_accuracy, label='val_accuracy')\n",
    "plt.xlabel('Epochs')\n",
    "plt.ylabel('Accuracy')\n",
    "plt.title('Accuracy Over Epochs')\n",
    "plt.legend()\n",
    "\n",
    "plt.subplot(1, 2, 2)\n",
    "plt.plot(loss, label='loss')\n",
    "plt.plot(val_loss, label='val_loss')\n",
    "plt.xlabel('Epochs')\n",
    "plt.ylabel('Loss')\n",
    "plt.title('Loss Over Epochs')\n",
    "plt.legend()"
   ]
  },
  {
   "cell_type": "code",
   "execution_count": 189,
   "id": "fc1e80d6",
   "metadata": {},
   "outputs": [
    {
     "name": "stdout",
     "output_type": "stream",
     "text": [
      "162/162 [==============================] - 0s 1ms/step\n",
      "Accuracy: 0.8013\n",
      "Classification Report:\n",
      "               precision    recall  f1-score   support\n",
      "\n",
      "         ham       0.99      0.78      0.87      4510\n",
      "        spam       0.38      0.95      0.55       653\n",
      "\n",
      "    accuracy                           0.80      5163\n",
      "   macro avg       0.69      0.87      0.71      5163\n",
      "weighted avg       0.91      0.80      0.83      5163\n",
      "\n"
     ]
    },
    {
     "data": {
      "image/png": "[encoded data removed]",
      "text/plain": [
       "<Figure size 640x480 with 2 Axes>"
      ]
     },
     "metadata": {},
     "output_type": "display_data"
    }
   ],
   "source": [
    "from sklearn.metrics import accuracy_score, classification_report, confusion_matrix\n",
    "import seaborn as sns\n",
    "import matplotlib.pyplot as plt\n",
    "import pandas as pd\n",
    "from joblib import dump\n",
    "\n",
    "\n",
    "# Load the trained model and vectorizer\n",
    "try:\n",
    "    dump(model, 'my_model.keras')\n",
    "    with open('vectorizer.joblib', 'wb') as file:\n",
    "        dump(vectorizer, file)\n",
    "except Exception as e:\n",
    "    print(f\"Error loading model or vectorizer: {e}\")\n",
    "    # Add further error handling if needed\n",
    "\n",
    "# Load the test dataset\n",
    "try:\n",
    "    test_data = pd.read_csv('test_dataset.csv', encoding='latin-1')\n",
    "    test_data.drop_duplicates(inplace=True)\n",
    "    test_data['v1'] = test_data['v1'].map({'spam': 1, 'ham': 0})\n",
    "    test_data = test_data.dropna(subset=['v2'])\n",
    "    test_data.drop_duplicates(inplace=True)\n",
    "except Exception as e:\n",
    "    print(f\"Error loading test dataset: {e}\")\n",
    "    # Add further error handling if needed\n",
    "\n",
    "# Make predictions\n",
    "try:\n",
    "    test_predictions = model.predict(vectorizer.transform(test_data['v2']))\n",
    "except Exception as e:\n",
    "    print(f\"Error making predictions: {e}\")\n",
    "    # Add further error handling if needed\n",
    "\n",
    "# Evaluate the model\n",
    "accuracy = accuracy_score(test_data['v1'], (test_predictions > 0.5).astype(int))\n",
    "print(f'Accuracy: {accuracy:.4f}')\n",
    "\n",
    "# Classification Report\n",
    "labels = ['ham', 'spam']\n",
    "classification_rep = classification_report(test_data['v1'], (test_predictions > 0.5).astype(int), target_names=labels)\n",
    "print('Classification Report:\\n', classification_rep)\n",
    "\n",
    "# Confusion Matrix\n",
    "cm = confusion_matrix(test_data['v1'], (test_predictions > 0.5).astype(int))\n",
    "sns.heatmap(cm, annot=True, fmt='d', cmap='Blues', xticklabels=labels, yticklabels=labels)\n",
    "plt.xlabel('Predicted')\n",
    "plt.ylabel('True')\n",
    "plt.show()\n"
   ]
  }
 ],
 "metadata": {
  "kernelspec": {
   "display_name": "Python 3",
   "language": "python",
   "name": "python3"
  },
  "language_info": {
   "codemirror_mode": {
    "name": "ipython",
    "version": 3
   },
   "file_extension": ".py",
   "mimetype": "text/x-python",
   "name": "python",
   "nbconvert_exporter": "python",
   "pygments_lexer": "ipython3",
   "version": "3.11.5"
  },
  "papermill": {
   "default_parameters": {},
   "duration": 16.820316,
   "end_time": "2023-10-05T11:12:40.386200",
   "environment_variables": {},
   "exception": null,
   "input_path": "__notebook__.ipynb",
   "output_path": "__notebook__.ipynb",
   "parameters": {},
   "start_time": "2023-10-05T11:12:23.565884",
   "version": "2.4.0"
  }
 },
 "nbformat": 4,
 "nbformat_minor": 5
}
